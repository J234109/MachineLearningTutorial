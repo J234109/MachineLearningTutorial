{
 "cells": [
  {
   "cell_type": "code",
   "execution_count": 91,
   "metadata": {},
   "outputs": [],
   "source": [
    "import pandas as pd\n",
    "import numpy as np\n",
    "import matplotlib.pyplot as plt\n"
   ]
  },
  {
   "cell_type": "code",
   "execution_count": 92,
   "metadata": {},
   "outputs": [],
   "source": [
    "gender = [\"Male\", \"Female\"]\n",
    "income = [\"Poor\", \"Middle Class\", \"Rich\"]"
   ]
  },
  {
   "cell_type": "code",
   "execution_count": 93,
   "metadata": {},
   "outputs": [],
   "source": [
    "n = 1000\n",
    "\n",
    "gender_data = []\n",
    "income_data = []\n",
    "\n",
    "for i in range(0,n):\n",
    "    gender_data.append(np.random.choice(gender))\n",
    "    income_data.append(np.random.choice(income))"
   ]
  },
  {
   "cell_type": "code",
   "execution_count": 116,
   "metadata": {},
   "outputs": [],
   "source": [
    "height = 160 + 30 * np.random.randn(n)\n",
    "weight = 65 + 25 * np.random.randn(n)\n",
    "age = 30 + 12 * np.random.randn(n)\n",
    "income = 18000 + 3500 * np.random.rand(n)\n",
    "normal = 21.4 + 3*np.random.randn(10000)"
   ]
  },
  {
   "cell_type": "code",
   "execution_count": 117,
   "metadata": {},
   "outputs": [
    {
     "data": {
      "text/plain": [
       "21.410672006935165"
      ]
     },
     "execution_count": 117,
     "metadata": {},
     "output_type": "execute_result"
    }
   ],
   "source": [
    "normal.mean()"
   ]
  },
  {
   "cell_type": "code",
   "execution_count": 118,
   "metadata": {},
   "outputs": [
    {
     "data": {
      "text/plain": [
       "3.037551842627906"
      ]
     },
     "execution_count": 118,
     "metadata": {},
     "output_type": "execute_result"
    }
   ],
   "source": [
    "normal.std()"
   ]
  },
  {
   "cell_type": "code",
   "execution_count": 119,
   "metadata": {},
   "outputs": [],
   "source": [
    "data1 = pd.DataFrame(\n",
    "    {\n",
    "        \"datos\" : normal\n",
    "    })"
   ]
  },
  {
   "cell_type": "code",
   "execution_count": 120,
   "metadata": {},
   "outputs": [
    {
     "data": {
      "text/html": [
       "<div>\n",
       "<style scoped>\n",
       "    .dataframe tbody tr th:only-of-type {\n",
       "        vertical-align: middle;\n",
       "    }\n",
       "\n",
       "    .dataframe tbody tr th {\n",
       "        vertical-align: top;\n",
       "    }\n",
       "\n",
       "    .dataframe thead th {\n",
       "        text-align: right;\n",
       "    }\n",
       "</style>\n",
       "<table border=\"1\" class=\"dataframe\">\n",
       "  <thead>\n",
       "    <tr style=\"text-align: right;\">\n",
       "      <th></th>\n",
       "      <th>datos</th>\n",
       "    </tr>\n",
       "  </thead>\n",
       "  <tbody>\n",
       "    <tr>\n",
       "      <th>count</th>\n",
       "      <td>10000.000000</td>\n",
       "    </tr>\n",
       "    <tr>\n",
       "      <th>mean</th>\n",
       "      <td>21.410672</td>\n",
       "    </tr>\n",
       "    <tr>\n",
       "      <th>std</th>\n",
       "      <td>3.037704</td>\n",
       "    </tr>\n",
       "    <tr>\n",
       "      <th>min</th>\n",
       "      <td>7.806200</td>\n",
       "    </tr>\n",
       "    <tr>\n",
       "      <th>25%</th>\n",
       "      <td>19.375233</td>\n",
       "    </tr>\n",
       "    <tr>\n",
       "      <th>50%</th>\n",
       "      <td>21.437986</td>\n",
       "    </tr>\n",
       "    <tr>\n",
       "      <th>75%</th>\n",
       "      <td>23.489765</td>\n",
       "    </tr>\n",
       "    <tr>\n",
       "      <th>max</th>\n",
       "      <td>32.317259</td>\n",
       "    </tr>\n",
       "  </tbody>\n",
       "</table>\n",
       "</div>"
      ],
      "text/plain": [
       "              datos\n",
       "count  10000.000000\n",
       "mean      21.410672\n",
       "std        3.037704\n",
       "min        7.806200\n",
       "25%       19.375233\n",
       "50%       21.437986\n",
       "75%       23.489765\n",
       "max       32.317259"
      ]
     },
     "execution_count": 120,
     "metadata": {},
     "output_type": "execute_result"
    }
   ],
   "source": [
    "data1.describe()\n",
    "\n",
    "\n"
   ]
  },
  {
   "cell_type": "code",
   "execution_count": 123,
   "metadata": {},
   "outputs": [
    {
     "data": {
      "text/plain": [
       "(array([ 1.,  0.,  0.,  0.,  0.,  0.,  0.,  0.,  0.,  0.,  0.,  0.,  0.,\n",
       "         0.,  0.,  0.,  0.,  0.,  0.,  1.,  0.,  0.,  0.,  0.,  0.,  0.,\n",
       "         0.,  0.,  0.,  0.,  0.,  0.,  0.,  0.,  0.,  0.,  0.,  0.,  0.,\n",
       "         0.,  0.,  0.,  0.,  0.,  0.,  0.,  0.,  0.,  0.,  0.,  0.,  0.,\n",
       "         0.,  0.,  0.,  0.,  0.,  0.,  1.,  0.,  0.,  1.,  0.,  0.,  0.,\n",
       "         0.,  0.,  0.,  0.,  0.,  1.,  0.,  1.,  0.,  0.,  0.,  0.,  1.,\n",
       "         0.,  0.,  1.,  0.,  1.,  1.,  1.,  0.,  0.,  1.,  1.,  0.,  1.,\n",
       "         1.,  0.,  0.,  2.,  1.,  1.,  2.,  1.,  2.,  3.,  1.,  2.,  0.,\n",
       "         0.,  0.,  1.,  3.,  5.,  3.,  5.,  2.,  3.,  2.,  0.,  3.,  1.,\n",
       "         2.,  1.,  4.,  1.,  1.,  2.,  6.,  5.,  6.,  4.,  1.,  5.,  5.,\n",
       "         4.,  5.,  8.,  6.,  5.,  9.,  3.,  3.,  5.,  5.,  6.,  2.,  2.,\n",
       "         6., 10., 10.,  4.,  8.,  5.,  6., 11.,  8.,  7., 12.,  6.,  7.,\n",
       "         7.,  8., 18.,  8., 13., 10., 13., 13., 13., 13., 18., 13., 14.,\n",
       "        18., 15., 14.,  8., 11., 11., 18., 25., 10., 12., 19., 27., 14.,\n",
       "        23., 18., 22., 18., 21., 17., 25., 19., 24., 20., 14., 30., 28.,\n",
       "        27., 27., 25., 32., 27., 21., 36., 26., 26., 31., 34., 29., 49.,\n",
       "        42., 46., 29., 38., 41., 41., 44., 40., 41., 39., 45., 45., 46.,\n",
       "        44., 35., 38., 46., 32., 41., 54., 43., 54., 56., 42., 50., 40.,\n",
       "        39., 54., 50., 49., 47., 56., 47., 63., 58., 53., 47., 58., 61.,\n",
       "        62., 55., 58., 41., 51., 64., 70., 55., 70., 58., 76., 51., 65.,\n",
       "        60., 63., 69., 58., 48., 56., 59., 62., 53., 75., 70., 55., 69.,\n",
       "        70., 69., 60., 75., 60., 64., 59., 73., 71., 74., 72., 70., 64.,\n",
       "        49., 54., 53., 73., 49., 66., 72., 51., 69., 72., 60., 41., 75.,\n",
       "        63., 57., 43., 60., 63., 47., 64., 49., 58., 73., 74., 50., 58.,\n",
       "        61., 54., 49., 51., 49., 46., 54., 50., 49., 52., 58., 42., 48.,\n",
       "        53., 41., 39., 48., 50., 53., 47., 52., 53., 40., 42., 44., 46.,\n",
       "        33., 32., 45., 37., 49., 33., 39., 37., 30., 32., 40., 27., 31.,\n",
       "        41., 31., 30., 30., 35., 28., 26., 25., 30., 34., 26., 25., 23.,\n",
       "        27., 18., 23., 14., 24., 22., 21., 32., 20., 15., 21., 12., 21.,\n",
       "        18., 14., 15., 13., 16., 20., 22., 22., 15., 11., 10.,  8., 15.,\n",
       "         8., 14.,  8.,  6., 14.,  5., 10.,  7.,  9., 12., 12.,  6., 10.,\n",
       "         8.,  4., 10., 10.,  8.,  2., 14.,  6.,  6.,  5.,  8.,  3.,  4.,\n",
       "         4.,  4.,  6.,  5.,  5.,  3.,  7.,  4.,  5.,  7.,  3.,  1.,  3.,\n",
       "         0.,  5.,  5.,  5.,  1.,  1.,  3.,  1.,  0.,  0.,  1.,  2.,  2.,\n",
       "         0.,  1.,  4.,  3.,  0.,  0.,  2.,  0.,  0.,  2.,  2.,  2.,  2.,\n",
       "         0.,  0.,  0.,  1.,  1.,  2.,  0.,  0.,  0.,  2.,  0.,  3.,  0.,\n",
       "         0.,  2.,  0.,  0.,  0.,  0.,  0.,  0.,  0.,  0.,  0.,  0.,  1.,\n",
       "         0.,  0.,  0.,  0.,  0.,  0.,  0.,  0.,  0.,  0.,  0.,  0.,  0.,\n",
       "         1.,  0.,  0.,  0.,  0.,  1.]),\n",
       " array([ 7.80619979,  7.85522191,  7.90424403,  7.95326615,  8.00228827,\n",
       "         8.05131039,  8.10033251,  8.14935463,  8.19837675,  8.24739887,\n",
       "         8.29642099,  8.34544311,  8.39446523,  8.44348734,  8.49250946,\n",
       "         8.54153158,  8.5905537 ,  8.63957582,  8.68859794,  8.73762006,\n",
       "         8.78664218,  8.8356643 ,  8.88468642,  8.93370854,  8.98273066,\n",
       "         9.03175278,  9.0807749 ,  9.12979702,  9.17881914,  9.22784126,\n",
       "         9.27686337,  9.32588549,  9.37490761,  9.42392973,  9.47295185,\n",
       "         9.52197397,  9.57099609,  9.62001821,  9.66904033,  9.71806245,\n",
       "         9.76708457,  9.81610669,  9.86512881,  9.91415093,  9.96317305,\n",
       "        10.01219517, 10.06121729, 10.1102394 , 10.15926152, 10.20828364,\n",
       "        10.25730576, 10.30632788, 10.35535   , 10.40437212, 10.45339424,\n",
       "        10.50241636, 10.55143848, 10.6004606 , 10.64948272, 10.69850484,\n",
       "        10.74752696, 10.79654908, 10.8455712 , 10.89459332, 10.94361543,\n",
       "        10.99263755, 11.04165967, 11.09068179, 11.13970391, 11.18872603,\n",
       "        11.23774815, 11.28677027, 11.33579239, 11.38481451, 11.43383663,\n",
       "        11.48285875, 11.53188087, 11.58090299, 11.62992511, 11.67894723,\n",
       "        11.72796935, 11.77699146, 11.82601358, 11.8750357 , 11.92405782,\n",
       "        11.97307994, 12.02210206, 12.07112418, 12.1201463 , 12.16916842,\n",
       "        12.21819054, 12.26721266, 12.31623478, 12.3652569 , 12.41427902,\n",
       "        12.46330114, 12.51232326, 12.56134538, 12.61036749, 12.65938961,\n",
       "        12.70841173, 12.75743385, 12.80645597, 12.85547809, 12.90450021,\n",
       "        12.95352233, 13.00254445, 13.05156657, 13.10058869, 13.14961081,\n",
       "        13.19863293, 13.24765505, 13.29667717, 13.34569929, 13.39472141,\n",
       "        13.44374352, 13.49276564, 13.54178776, 13.59080988, 13.639832  ,\n",
       "        13.68885412, 13.73787624, 13.78689836, 13.83592048, 13.8849426 ,\n",
       "        13.93396472, 13.98298684, 14.03200896, 14.08103108, 14.1300532 ,\n",
       "        14.17907532, 14.22809744, 14.27711955, 14.32614167, 14.37516379,\n",
       "        14.42418591, 14.47320803, 14.52223015, 14.57125227, 14.62027439,\n",
       "        14.66929651, 14.71831863, 14.76734075, 14.81636287, 14.86538499,\n",
       "        14.91440711, 14.96342923, 15.01245135, 15.06147347, 15.11049558,\n",
       "        15.1595177 , 15.20853982, 15.25756194, 15.30658406, 15.35560618,\n",
       "        15.4046283 , 15.45365042, 15.50267254, 15.55169466, 15.60071678,\n",
       "        15.6497389 , 15.69876102, 15.74778314, 15.79680526, 15.84582738,\n",
       "        15.8948495 , 15.94387161, 15.99289373, 16.04191585, 16.09093797,\n",
       "        16.13996009, 16.18898221, 16.23800433, 16.28702645, 16.33604857,\n",
       "        16.38507069, 16.43409281, 16.48311493, 16.53213705, 16.58115917,\n",
       "        16.63018129, 16.67920341, 16.72822553, 16.77724764, 16.82626976,\n",
       "        16.87529188, 16.924314  , 16.97333612, 17.02235824, 17.07138036,\n",
       "        17.12040248, 17.1694246 , 17.21844672, 17.26746884, 17.31649096,\n",
       "        17.36551308, 17.4145352 , 17.46355732, 17.51257944, 17.56160156,\n",
       "        17.61062367, 17.65964579, 17.70866791, 17.75769003, 17.80671215,\n",
       "        17.85573427, 17.90475639, 17.95377851, 18.00280063, 18.05182275,\n",
       "        18.10084487, 18.14986699, 18.19888911, 18.24791123, 18.29693335,\n",
       "        18.34595547, 18.39497759, 18.4439997 , 18.49302182, 18.54204394,\n",
       "        18.59106606, 18.64008818, 18.6891103 , 18.73813242, 18.78715454,\n",
       "        18.83617666, 18.88519878, 18.9342209 , 18.98324302, 19.03226514,\n",
       "        19.08128726, 19.13030938, 19.1793315 , 19.22835362, 19.27737573,\n",
       "        19.32639785, 19.37541997, 19.42444209, 19.47346421, 19.52248633,\n",
       "        19.57150845, 19.62053057, 19.66955269, 19.71857481, 19.76759693,\n",
       "        19.81661905, 19.86564117, 19.91466329, 19.96368541, 20.01270753,\n",
       "        20.06172965, 20.11075176, 20.15977388, 20.208796  , 20.25781812,\n",
       "        20.30684024, 20.35586236, 20.40488448, 20.4539066 , 20.50292872,\n",
       "        20.55195084, 20.60097296, 20.64999508, 20.6990172 , 20.74803932,\n",
       "        20.79706144, 20.84608356, 20.89510568, 20.94412779, 20.99314991,\n",
       "        21.04217203, 21.09119415, 21.14021627, 21.18923839, 21.23826051,\n",
       "        21.28728263, 21.33630475, 21.38532687, 21.43434899, 21.48337111,\n",
       "        21.53239323, 21.58141535, 21.63043747, 21.67945959, 21.72848171,\n",
       "        21.77750382, 21.82652594, 21.87554806, 21.92457018, 21.9735923 ,\n",
       "        22.02261442, 22.07163654, 22.12065866, 22.16968078, 22.2187029 ,\n",
       "        22.26772502, 22.31674714, 22.36576926, 22.41479138, 22.4638135 ,\n",
       "        22.51283562, 22.56185774, 22.61087985, 22.65990197, 22.70892409,\n",
       "        22.75794621, 22.80696833, 22.85599045, 22.90501257, 22.95403469,\n",
       "        23.00305681, 23.05207893, 23.10110105, 23.15012317, 23.19914529,\n",
       "        23.24816741, 23.29718953, 23.34621165, 23.39523377, 23.44425588,\n",
       "        23.493278  , 23.54230012, 23.59132224, 23.64034436, 23.68936648,\n",
       "        23.7383886 , 23.78741072, 23.83643284, 23.88545496, 23.93447708,\n",
       "        23.9834992 , 24.03252132, 24.08154344, 24.13056556, 24.17958768,\n",
       "        24.2286098 , 24.27763191, 24.32665403, 24.37567615, 24.42469827,\n",
       "        24.47372039, 24.52274251, 24.57176463, 24.62078675, 24.66980887,\n",
       "        24.71883099, 24.76785311, 24.81687523, 24.86589735, 24.91491947,\n",
       "        24.96394159, 25.01296371, 25.06198583, 25.11100794, 25.16003006,\n",
       "        25.20905218, 25.2580743 , 25.30709642, 25.35611854, 25.40514066,\n",
       "        25.45416278, 25.5031849 , 25.55220702, 25.60122914, 25.65025126,\n",
       "        25.69927338, 25.7482955 , 25.79731762, 25.84633974, 25.89536186,\n",
       "        25.94438397, 25.99340609, 26.04242821, 26.09145033, 26.14047245,\n",
       "        26.18949457, 26.23851669, 26.28753881, 26.33656093, 26.38558305,\n",
       "        26.43460517, 26.48362729, 26.53264941, 26.58167153, 26.63069365,\n",
       "        26.67971577, 26.72873789, 26.77776   , 26.82678212, 26.87580424,\n",
       "        26.92482636, 26.97384848, 27.0228706 , 27.07189272, 27.12091484,\n",
       "        27.16993696, 27.21895908, 27.2679812 , 27.31700332, 27.36602544,\n",
       "        27.41504756, 27.46406968, 27.5130918 , 27.56211391, 27.61113603,\n",
       "        27.66015815, 27.70918027, 27.75820239, 27.80722451, 27.85624663,\n",
       "        27.90526875, 27.95429087, 28.00331299, 28.05233511, 28.10135723,\n",
       "        28.15037935, 28.19940147, 28.24842359, 28.29744571, 28.34646783,\n",
       "        28.39548994, 28.44451206, 28.49353418, 28.5425563 , 28.59157842,\n",
       "        28.64060054, 28.68962266, 28.73864478, 28.7876669 , 28.83668902,\n",
       "        28.88571114, 28.93473326, 28.98375538, 29.0327775 , 29.08179962,\n",
       "        29.13082174, 29.17984386, 29.22886597, 29.27788809, 29.32691021,\n",
       "        29.37593233, 29.42495445, 29.47397657, 29.52299869, 29.57202081,\n",
       "        29.62104293, 29.67006505, 29.71908717, 29.76810929, 29.81713141,\n",
       "        29.86615353, 29.91517565, 29.96419777, 30.01321989, 30.062242  ,\n",
       "        30.11126412, 30.16028624, 30.20930836, 30.25833048, 30.3073526 ,\n",
       "        30.35637472, 30.40539684, 30.45441896, 30.50344108, 30.5524632 ,\n",
       "        30.60148532, 30.65050744, 30.69952956, 30.74855168, 30.7975738 ,\n",
       "        30.84659592, 30.89561803, 30.94464015, 30.99366227, 31.04268439,\n",
       "        31.09170651, 31.14072863, 31.18975075, 31.23877287, 31.28779499,\n",
       "        31.33681711, 31.38583923, 31.43486135, 31.48388347, 31.53290559,\n",
       "        31.58192771, 31.63094983, 31.67997195, 31.72899406, 31.77801618,\n",
       "        31.8270383 , 31.87606042, 31.92508254, 31.97410466, 32.02312678,\n",
       "        32.0721489 , 32.12117102, 32.17019314, 32.21921526, 32.26823738,\n",
       "        32.3172595 ]),\n",
       " <a list of 500 Patch objects>)"
      ]
     },
     "execution_count": 123,
     "metadata": {},
     "output_type": "execute_result"
    },
    {
     "data": {
      "image/png": "[encoded data removed]",
      "text/plain": [
       "<matplotlib.figure.Figure at 0x11cb5d470>"
      ]
     },
     "metadata": {},
     "output_type": "display_data"
    }
   ],
   "source": [
    "%matplotlib inline\n",
    "plt.hist(data1[\"datos\"], 500)"
   ]
  },
  {
   "cell_type": "code",
   "execution_count": 125,
   "metadata": {},
   "outputs": [
    {
     "data": {
      "text/plain": [
       "[<matplotlib.lines.Line2D at 0x11e3c4a58>]"
      ]
     },
     "execution_count": 125,
     "metadata": {},
     "output_type": "execute_result"
    },
    {
     "data": {
      "image/png": "[encoded data removed]",
      "text/plain": [
       "<matplotlib.figure.Figure at 0x11e24fa20>"
      ]
     },
     "metadata": {},
     "output_type": "display_data"
    }
   ],
   "source": [
    "plt.plot(range(10000),sorted(data1[\"datos\"]))"
   ]
  },
  {
   "cell_type": "code",
   "execution_count": null,
   "metadata": {},
   "outputs": [],
   "source": []
  },
  {
   "cell_type": "code",
   "execution_count": 122,
   "metadata": {},
   "outputs": [],
   "source": [
    "data = pd.DataFrame(\n",
    "    {\n",
    "        \"Gender\" : gender_data,\n",
    "        \"Economic Status\" : income_data,\n",
    "        \"Height\" : height,\n",
    "        \"Weight\" : weight,\n",
    "        \"Age\" : age,\n",
    "        \"Income\" : income\n",
    "    }\n",
    ")"
   ]
  },
  {
   "cell_type": "code",
   "execution_count": 111,
   "metadata": {},
   "outputs": [
    {
     "data": {
      "text/plain": [
       "(array([108.,  94., 108., 111., 100., 101.,  86., 112.,  79., 101.]),\n",
       " array([18003.9911993 , 18353.51319553, 18703.03519176, 19052.557188  ,\n",
       "        19402.07918423, 19751.60118047, 20101.1231767 , 20450.64517293,\n",
       "        20800.16716917, 21149.6891654 , 21499.21116163]),\n",
       " <a list of 10 Patch objects>)"
      ]
     },
     "execution_count": 111,
     "metadata": {},
     "output_type": "execute_result"
    },
    {
     "data": {
      "image/png": "[encoded data removed]",
      "text/plain": [
       "<matplotlib.figure.Figure at 0x115649f28>"
      ]
     },
     "metadata": {},
     "output_type": "display_data"
    }
   ],
   "source": [
    "%matplotlib inline\n",
    "plt.hist(data[\"Income\"])"
   ]
  },
  {
   "cell_type": "code",
   "execution_count": 112,
   "metadata": {},
   "outputs": [],
   "source": [
    "grouped_gender1 = data.groupby(\"Gender\")\n",
    "grouped_gender2 = data.groupby([\"Gender\", \"Economic Status\"])"
   ]
  },
  {
   "cell_type": "code",
   "execution_count": 33,
   "metadata": {},
   "outputs": [
    {
     "data": {
      "text/plain": [
       "<pandas.core.groupby.DataFrameGroupBy object at 0x116634e80>"
      ]
     },
     "execution_count": 33,
     "metadata": {},
     "output_type": "execute_result"
    }
   ],
   "source": [
    "grouped_gender1"
   ]
  },
  {
   "cell_type": "code",
   "execution_count": 34,
   "metadata": {},
   "outputs": [
    {
     "data": {
      "text/html": [
       "<div>\n",
       "<style scoped>\n",
       "    .dataframe tbody tr th:only-of-type {\n",
       "        vertical-align: middle;\n",
       "    }\n",
       "\n",
       "    .dataframe tbody tr th {\n",
       "        vertical-align: top;\n",
       "    }\n",
       "\n",
       "    .dataframe thead tr th {\n",
       "        text-align: left;\n",
       "    }\n",
       "\n",
       "    .dataframe thead tr:last-of-type th {\n",
       "        text-align: right;\n",
       "    }\n",
       "</style>\n",
       "<table border=\"1\" class=\"dataframe\">\n",
       "  <thead>\n",
       "    <tr>\n",
       "      <th></th>\n",
       "      <th></th>\n",
       "      <th colspan=\"8\" halign=\"left\">Age</th>\n",
       "      <th colspan=\"2\" halign=\"left\">Height</th>\n",
       "      <th>...</th>\n",
       "      <th colspan=\"2\" halign=\"left\">Income</th>\n",
       "      <th colspan=\"8\" halign=\"left\">Weight</th>\n",
       "    </tr>\n",
       "    <tr>\n",
       "      <th></th>\n",
       "      <th></th>\n",
       "      <th>count</th>\n",
       "      <th>mean</th>\n",
       "      <th>std</th>\n",
       "      <th>min</th>\n",
       "      <th>25%</th>\n",
       "      <th>50%</th>\n",
       "      <th>75%</th>\n",
       "      <th>max</th>\n",
       "      <th>count</th>\n",
       "      <th>mean</th>\n",
       "      <th>...</th>\n",
       "      <th>75%</th>\n",
       "      <th>max</th>\n",
       "      <th>count</th>\n",
       "      <th>mean</th>\n",
       "      <th>std</th>\n",
       "      <th>min</th>\n",
       "      <th>25%</th>\n",
       "      <th>50%</th>\n",
       "      <th>75%</th>\n",
       "      <th>max</th>\n",
       "    </tr>\n",
       "    <tr>\n",
       "      <th>Gender</th>\n",
       "      <th>Economic Status</th>\n",
       "      <th></th>\n",
       "      <th></th>\n",
       "      <th></th>\n",
       "      <th></th>\n",
       "      <th></th>\n",
       "      <th></th>\n",
       "      <th></th>\n",
       "      <th></th>\n",
       "      <th></th>\n",
       "      <th></th>\n",
       "      <th></th>\n",
       "      <th></th>\n",
       "      <th></th>\n",
       "      <th></th>\n",
       "      <th></th>\n",
       "      <th></th>\n",
       "      <th></th>\n",
       "      <th></th>\n",
       "      <th></th>\n",
       "      <th></th>\n",
       "      <th></th>\n",
       "    </tr>\n",
       "  </thead>\n",
       "  <tbody>\n",
       "    <tr>\n",
       "      <th rowspan=\"3\" valign=\"top\">Female</th>\n",
       "      <th>Middle Class</th>\n",
       "      <td>179.0</td>\n",
       "      <td>30.894068</td>\n",
       "      <td>12.323372</td>\n",
       "      <td>-3.645041</td>\n",
       "      <td>22.784454</td>\n",
       "      <td>31.050258</td>\n",
       "      <td>39.507465</td>\n",
       "      <td>63.223761</td>\n",
       "      <td>179.0</td>\n",
       "      <td>159.772180</td>\n",
       "      <td>...</td>\n",
       "      <td>20681.719504</td>\n",
       "      <td>21499.892745</td>\n",
       "      <td>179.0</td>\n",
       "      <td>64.924768</td>\n",
       "      <td>24.831206</td>\n",
       "      <td>1.281871</td>\n",
       "      <td>49.300590</td>\n",
       "      <td>65.288431</td>\n",
       "      <td>81.393786</td>\n",
       "      <td>149.297741</td>\n",
       "    </tr>\n",
       "    <tr>\n",
       "      <th>Poor</th>\n",
       "      <td>159.0</td>\n",
       "      <td>30.986110</td>\n",
       "      <td>12.533901</td>\n",
       "      <td>0.314966</td>\n",
       "      <td>23.308515</td>\n",
       "      <td>31.395559</td>\n",
       "      <td>40.202367</td>\n",
       "      <td>61.160353</td>\n",
       "      <td>159.0</td>\n",
       "      <td>161.379279</td>\n",
       "      <td>...</td>\n",
       "      <td>20770.415438</td>\n",
       "      <td>21477.160365</td>\n",
       "      <td>159.0</td>\n",
       "      <td>66.411273</td>\n",
       "      <td>23.574258</td>\n",
       "      <td>3.722784</td>\n",
       "      <td>49.935564</td>\n",
       "      <td>67.401636</td>\n",
       "      <td>83.812206</td>\n",
       "      <td>116.724698</td>\n",
       "    </tr>\n",
       "    <tr>\n",
       "      <th>Rich</th>\n",
       "      <td>146.0</td>\n",
       "      <td>29.186009</td>\n",
       "      <td>11.209145</td>\n",
       "      <td>0.127530</td>\n",
       "      <td>20.552473</td>\n",
       "      <td>29.534519</td>\n",
       "      <td>35.869282</td>\n",
       "      <td>60.059586</td>\n",
       "      <td>146.0</td>\n",
       "      <td>157.497529</td>\n",
       "      <td>...</td>\n",
       "      <td>20483.403362</td>\n",
       "      <td>21474.869415</td>\n",
       "      <td>146.0</td>\n",
       "      <td>68.077825</td>\n",
       "      <td>26.261386</td>\n",
       "      <td>6.374850</td>\n",
       "      <td>50.403723</td>\n",
       "      <td>68.297717</td>\n",
       "      <td>86.832045</td>\n",
       "      <td>117.988421</td>\n",
       "    </tr>\n",
       "    <tr>\n",
       "      <th rowspan=\"3\" valign=\"top\">Male</th>\n",
       "      <th>Middle Class</th>\n",
       "      <td>154.0</td>\n",
       "      <td>28.846221</td>\n",
       "      <td>12.351270</td>\n",
       "      <td>-16.078661</td>\n",
       "      <td>21.596246</td>\n",
       "      <td>29.095271</td>\n",
       "      <td>36.996942</td>\n",
       "      <td>72.080909</td>\n",
       "      <td>154.0</td>\n",
       "      <td>160.486055</td>\n",
       "      <td>...</td>\n",
       "      <td>20730.486461</td>\n",
       "      <td>21492.876262</td>\n",
       "      <td>154.0</td>\n",
       "      <td>65.057028</td>\n",
       "      <td>21.598439</td>\n",
       "      <td>-4.600221</td>\n",
       "      <td>52.390852</td>\n",
       "      <td>65.780947</td>\n",
       "      <td>80.709802</td>\n",
       "      <td>115.343816</td>\n",
       "    </tr>\n",
       "    <tr>\n",
       "      <th>Poor</th>\n",
       "      <td>183.0</td>\n",
       "      <td>28.906623</td>\n",
       "      <td>11.437529</td>\n",
       "      <td>1.179425</td>\n",
       "      <td>20.803834</td>\n",
       "      <td>28.245973</td>\n",
       "      <td>36.992492</td>\n",
       "      <td>57.130132</td>\n",
       "      <td>183.0</td>\n",
       "      <td>157.249430</td>\n",
       "      <td>...</td>\n",
       "      <td>20563.495481</td>\n",
       "      <td>21447.989333</td>\n",
       "      <td>183.0</td>\n",
       "      <td>67.430352</td>\n",
       "      <td>23.959158</td>\n",
       "      <td>13.360162</td>\n",
       "      <td>53.682602</td>\n",
       "      <td>67.111269</td>\n",
       "      <td>84.605503</td>\n",
       "      <td>122.225297</td>\n",
       "    </tr>\n",
       "    <tr>\n",
       "      <th>Rich</th>\n",
       "      <td>179.0</td>\n",
       "      <td>30.452419</td>\n",
       "      <td>11.919767</td>\n",
       "      <td>-4.298738</td>\n",
       "      <td>22.179364</td>\n",
       "      <td>30.526529</td>\n",
       "      <td>37.516244</td>\n",
       "      <td>64.824353</td>\n",
       "      <td>179.0</td>\n",
       "      <td>157.705229</td>\n",
       "      <td>...</td>\n",
       "      <td>20683.341868</td>\n",
       "      <td>21498.766204</td>\n",
       "      <td>179.0</td>\n",
       "      <td>67.056333</td>\n",
       "      <td>24.321634</td>\n",
       "      <td>5.428233</td>\n",
       "      <td>50.262031</td>\n",
       "      <td>67.267656</td>\n",
       "      <td>81.477277</td>\n",
       "      <td>142.675242</td>\n",
       "    </tr>\n",
       "  </tbody>\n",
       "</table>\n",
       "<p>6 rows × 32 columns</p>\n",
       "</div>"
      ],
      "text/plain": [
       "                          Age                                              \\\n",
       "                        count       mean        std        min        25%   \n",
       "Gender Economic Status                                                      \n",
       "Female Middle Class     179.0  30.894068  12.323372  -3.645041  22.784454   \n",
       "       Poor             159.0  30.986110  12.533901   0.314966  23.308515   \n",
       "       Rich             146.0  29.186009  11.209145   0.127530  20.552473   \n",
       "Male   Middle Class     154.0  28.846221  12.351270 -16.078661  21.596246   \n",
       "       Poor             183.0  28.906623  11.437529   1.179425  20.803834   \n",
       "       Rich             179.0  30.452419  11.919767  -4.298738  22.179364   \n",
       "\n",
       "                                                        Height              \\\n",
       "                              50%        75%        max  count        mean   \n",
       "Gender Economic Status                                                       \n",
       "Female Middle Class     31.050258  39.507465  63.223761  179.0  159.772180   \n",
       "       Poor             31.395559  40.202367  61.160353  159.0  161.379279   \n",
       "       Rich             29.534519  35.869282  60.059586  146.0  157.497529   \n",
       "Male   Middle Class     29.095271  36.996942  72.080909  154.0  160.486055   \n",
       "       Poor             28.245973  36.992492  57.130132  183.0  157.249430   \n",
       "       Rich             30.526529  37.516244  64.824353  179.0  157.705229   \n",
       "\n",
       "                           ...            Income               Weight  \\\n",
       "                           ...               75%           max  count   \n",
       "Gender Economic Status     ...                                          \n",
       "Female Middle Class        ...      20681.719504  21499.892745  179.0   \n",
       "       Poor                ...      20770.415438  21477.160365  159.0   \n",
       "       Rich                ...      20483.403362  21474.869415  146.0   \n",
       "Male   Middle Class        ...      20730.486461  21492.876262  154.0   \n",
       "       Poor                ...      20563.495481  21447.989333  183.0   \n",
       "       Rich                ...      20683.341868  21498.766204  179.0   \n",
       "\n",
       "                                                                               \\\n",
       "                             mean        std        min        25%        50%   \n",
       "Gender Economic Status                                                          \n",
       "Female Middle Class     64.924768  24.831206   1.281871  49.300590  65.288431   \n",
       "       Poor             66.411273  23.574258   3.722784  49.935564  67.401636   \n",
       "       Rich             68.077825  26.261386   6.374850  50.403723  68.297717   \n",
       "Male   Middle Class     65.057028  21.598439  -4.600221  52.390852  65.780947   \n",
       "       Poor             67.430352  23.959158  13.360162  53.682602  67.111269   \n",
       "       Rich             67.056333  24.321634   5.428233  50.262031  67.267656   \n",
       "\n",
       "                                               \n",
       "                              75%         max  \n",
       "Gender Economic Status                         \n",
       "Female Middle Class     81.393786  149.297741  \n",
       "       Poor             83.812206  116.724698  \n",
       "       Rich             86.832045  117.988421  \n",
       "Male   Middle Class     80.709802  115.343816  \n",
       "       Poor             84.605503  122.225297  \n",
       "       Rich             81.477277  142.675242  \n",
       "\n",
       "[6 rows x 32 columns]"
      ]
     },
     "execution_count": 34,
     "metadata": {},
     "output_type": "execute_result"
    }
   ],
   "source": [
    "grouped_gender2.describe()"
   ]
  },
  {
   "cell_type": "code",
   "execution_count": 35,
   "metadata": {},
   "outputs": [
    {
     "data": {
      "text/html": [
       "<div>\n",
       "<style scoped>\n",
       "    .dataframe tbody tr th:only-of-type {\n",
       "        vertical-align: middle;\n",
       "    }\n",
       "\n",
       "    .dataframe tbody tr th {\n",
       "        vertical-align: top;\n",
       "    }\n",
       "\n",
       "    .dataframe thead th {\n",
       "        text-align: right;\n",
       "    }\n",
       "</style>\n",
       "<table border=\"1\" class=\"dataframe\">\n",
       "  <thead>\n",
       "    <tr style=\"text-align: right;\">\n",
       "      <th></th>\n",
       "      <th>Age</th>\n",
       "      <th>Economic Status</th>\n",
       "      <th>Gender</th>\n",
       "      <th>Height</th>\n",
       "      <th>Income</th>\n",
       "      <th>Weight</th>\n",
       "    </tr>\n",
       "  </thead>\n",
       "  <tbody>\n",
       "    <tr>\n",
       "      <th>0</th>\n",
       "      <td>31.232957</td>\n",
       "      <td>Middle Class</td>\n",
       "      <td>Male</td>\n",
       "      <td>184.536419</td>\n",
       "      <td>18002.395706</td>\n",
       "      <td>60.554639</td>\n",
       "    </tr>\n",
       "    <tr>\n",
       "      <th>1</th>\n",
       "      <td>27.487787</td>\n",
       "      <td>Middle Class</td>\n",
       "      <td>Female</td>\n",
       "      <td>200.271794</td>\n",
       "      <td>19873.274838</td>\n",
       "      <td>92.081516</td>\n",
       "    </tr>\n",
       "    <tr>\n",
       "      <th>2</th>\n",
       "      <td>24.241645</td>\n",
       "      <td>Poor</td>\n",
       "      <td>Male</td>\n",
       "      <td>129.902318</td>\n",
       "      <td>19670.403303</td>\n",
       "      <td>68.642886</td>\n",
       "    </tr>\n",
       "    <tr>\n",
       "      <th>3</th>\n",
       "      <td>45.969974</td>\n",
       "      <td>Rich</td>\n",
       "      <td>Male</td>\n",
       "      <td>153.821300</td>\n",
       "      <td>19365.757361</td>\n",
       "      <td>74.375662</td>\n",
       "    </tr>\n",
       "    <tr>\n",
       "      <th>4</th>\n",
       "      <td>24.649721</td>\n",
       "      <td>Rich</td>\n",
       "      <td>Female</td>\n",
       "      <td>182.272801</td>\n",
       "      <td>20527.055468</td>\n",
       "      <td>97.626420</td>\n",
       "    </tr>\n",
       "    <tr>\n",
       "      <th>5</th>\n",
       "      <td>49.245766</td>\n",
       "      <td>Poor</td>\n",
       "      <td>Female</td>\n",
       "      <td>166.638567</td>\n",
       "      <td>19968.046243</td>\n",
       "      <td>105.452265</td>\n",
       "    </tr>\n",
       "    <tr>\n",
       "      <th>6</th>\n",
       "      <td>47.233771</td>\n",
       "      <td>Rich</td>\n",
       "      <td>Female</td>\n",
       "      <td>220.766761</td>\n",
       "      <td>19133.205596</td>\n",
       "      <td>72.578522</td>\n",
       "    </tr>\n",
       "    <tr>\n",
       "      <th>7</th>\n",
       "      <td>40.270303</td>\n",
       "      <td>Poor</td>\n",
       "      <td>Male</td>\n",
       "      <td>154.383233</td>\n",
       "      <td>19369.888075</td>\n",
       "      <td>97.005800</td>\n",
       "    </tr>\n",
       "    <tr>\n",
       "      <th>8</th>\n",
       "      <td>6.825811</td>\n",
       "      <td>Poor</td>\n",
       "      <td>Male</td>\n",
       "      <td>157.911161</td>\n",
       "      <td>20432.041525</td>\n",
       "      <td>87.875782</td>\n",
       "    </tr>\n",
       "    <tr>\n",
       "      <th>9</th>\n",
       "      <td>16.280028</td>\n",
       "      <td>Poor</td>\n",
       "      <td>Female</td>\n",
       "      <td>138.445891</td>\n",
       "      <td>18776.908365</td>\n",
       "      <td>57.295854</td>\n",
       "    </tr>\n",
       "  </tbody>\n",
       "</table>\n",
       "</div>"
      ],
      "text/plain": [
       "         Age Economic Status  Gender      Height        Income      Weight\n",
       "0  31.232957    Middle Class    Male  184.536419  18002.395706   60.554639\n",
       "1  27.487787    Middle Class  Female  200.271794  19873.274838   92.081516\n",
       "2  24.241645            Poor    Male  129.902318  19670.403303   68.642886\n",
       "3  45.969974            Rich    Male  153.821300  19365.757361   74.375662\n",
       "4  24.649721            Rich  Female  182.272801  20527.055468   97.626420\n",
       "5  49.245766            Poor  Female  166.638567  19968.046243  105.452265\n",
       "6  47.233771            Rich  Female  220.766761  19133.205596   72.578522\n",
       "7  40.270303            Poor    Male  154.383233  19369.888075   97.005800\n",
       "8   6.825811            Poor    Male  157.911161  20432.041525   87.875782\n",
       "9  16.280028            Poor  Female  138.445891  18776.908365   57.295854"
      ]
     },
     "execution_count": 35,
     "metadata": {},
     "output_type": "execute_result"
    }
   ],
   "source": [
    "grouped_gender1.head()"
   ]
  },
  {
   "cell_type": "code",
   "execution_count": 36,
   "metadata": {},
   "outputs": [],
   "source": [
    "df = grouped_gender2.get_group((\"Male\", \"Poor\"))"
   ]
  },
  {
   "cell_type": "code",
   "execution_count": 41,
   "metadata": {},
   "outputs": [
    {
     "data": {
      "text/plain": [
       "Age      -0.039545\n",
       "Height    0.259100\n",
       "Income   -0.042526\n",
       "Weight   -0.022328\n",
       "dtype: float64"
      ]
     },
     "execution_count": 41,
     "metadata": {},
     "output_type": "execute_result"
    }
   ],
   "source": [
    "data.skew()"
   ]
  },
  {
   "cell_type": "code",
   "execution_count": 42,
   "metadata": {},
   "outputs": [
    {
     "data": {
      "text/plain": [
       "count    1000.000000\n",
       "mean      158.973899\n",
       "std        29.561495\n",
       "min        72.057937\n",
       "25%       138.023839\n",
       "50%       156.985948\n",
       "75%       178.575037\n",
       "max       265.873237\n",
       "Name: Height, dtype: float64"
      ]
     },
     "execution_count": 42,
     "metadata": {},
     "output_type": "execute_result"
    }
   ],
   "source": [
    "data[\"Height\"].describe()"
   ]
  },
  {
   "cell_type": "code",
   "execution_count": 43,
   "metadata": {},
   "outputs": [
    {
     "data": {
      "text/plain": [
       "0.25910012628103835"
      ]
     },
     "execution_count": 43,
     "metadata": {},
     "output_type": "execute_result"
    }
   ],
   "source": [
    "data[\"Height\"].skew()"
   ]
  },
  {
   "cell_type": "code",
   "execution_count": 126,
   "metadata": {},
   "outputs": [
    {
     "data": {
      "text/plain": [
       "158.83420723291124"
      ]
     },
     "execution_count": 126,
     "metadata": {},
     "output_type": "execute_result"
    }
   ],
   "source": [
    "data[\"Height\"].median()"
   ]
  },
  {
   "cell_type": "code",
   "execution_count": 127,
   "metadata": {},
   "outputs": [],
   "source": [
    "normal = 21.4 + 3*np.random.randn(10000)\n",
    "data = pd.DataFrame(\n",
    "    {\n",
    "        \"distribucion1\" : normal\n",
    "    }\n",
    ")"
   ]
  },
  {
   "cell_type": "code",
   "execution_count": 129,
   "metadata": {},
   "outputs": [
    {
     "data": {
      "text/plain": [
       "(array([  1.,   0.,   0.,   2.,   2.,   4.,   8.,  10.,  21.,  12.,  37.,\n",
       "         51.,  84.,  87., 113., 145., 188., 216., 319., 329., 387., 393.,\n",
       "        486., 584., 595., 569., 594., 565., 556., 568., 498., 449., 396.,\n",
       "        386., 299., 241., 206., 125., 113.,  94.,  70.,  66.,  38.,  33.,\n",
       "         21.,  11.,  12.,   6.,   8.,   2.]),\n",
       " array([ 9.58846036, 10.03265298, 10.47684559, 10.9210382 , 11.36523082,\n",
       "        11.80942343, 12.25361604, 12.69780866, 13.14200127, 13.58619388,\n",
       "        14.0303865 , 14.47457911, 14.91877172, 15.36296433, 15.80715695,\n",
       "        16.25134956, 16.69554217, 17.13973479, 17.5839274 , 18.02812001,\n",
       "        18.47231263, 18.91650524, 19.36069785, 19.80489047, 20.24908308,\n",
       "        20.69327569, 21.13746831, 21.58166092, 22.02585353, 22.47004615,\n",
       "        22.91423876, 23.35843137, 23.80262398, 24.2468166 , 24.69100921,\n",
       "        25.13520182, 25.57939444, 26.02358705, 26.46777966, 26.91197228,\n",
       "        27.35616489, 27.8003575 , 28.24455012, 28.68874273, 29.13293534,\n",
       "        29.57712796, 30.02132057, 30.46551318, 30.90970579, 31.35389841,\n",
       "        31.79809102]),\n",
       " <a list of 50 Patch objects>)"
      ]
     },
     "execution_count": 129,
     "metadata": {},
     "output_type": "execute_result"
    },
    {
     "data": {
      "image/png": "[encoded data removed]",
      "text/plain": [
       "<matplotlib.figure.Figure at 0x1157de2b0>"
      ]
     },
     "metadata": {},
     "output_type": "display_data"
    }
   ],
   "source": [
    "%matplotlib inline\n",
    "plt.hist(data[\"distribucion1\"], 50)"
   ]
  },
  {
   "cell_type": "code",
   "execution_count": 132,
   "metadata": {},
   "outputs": [
    {
     "data": {
      "text/plain": [
       "[<matplotlib.lines.Line2D at 0x11e870f98>]"
      ]
     },
     "execution_count": 132,
     "metadata": {},
     "output_type": "execute_result"
    },
    {
     "data": {
      "image/png": "[encoded data removed]",
      "text/plain": [
       "<matplotlib.figure.Figure at 0x11d6f2198>"
      ]
     },
     "metadata": {},
     "output_type": "display_data"
    }
   ],
   "source": [
    "x=range(0,10000)\n",
    "plt.plot(x,sorted(data[\"distribucion1\"]))"
   ]
  },
  {
   "cell_type": "code",
   "execution_count": null,
   "metadata": {},
   "outputs": [],
   "source": []
  }
 ],
 "metadata": {
  "kernelspec": {
   "display_name": "Python 3",
   "language": "python",
   "name": "python3"
  }
 },
 "nbformat": 4,
 "nbformat_minor": 2
}
